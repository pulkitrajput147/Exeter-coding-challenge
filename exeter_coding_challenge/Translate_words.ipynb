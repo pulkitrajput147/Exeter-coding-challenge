{
  "nbformat": 4,
  "nbformat_minor": 0,
  "metadata": {
    "colab": {
      "name": "Translate words Challenge",
      "provenance": []
    },
    "kernelspec": {
      "name": "python3",
      "display_name": "Python 3"
    },
    "language_info": {
      "name": "python"
    },
    "accelerator": "GPU"
  },
  "cells": [
    {
      "cell_type": "code",
      "metadata": {
        "id": "lKTf533--wFV"
      },
      "source": [
        "import pandas as pd\n",
        "import fileinput\n",
        "import time"
      ],
      "execution_count": 2,
      "outputs": []
    },
    {
      "cell_type": "code",
      "metadata": {
        "id": "I0afjNfMFnZo"
      },
      "source": [
        "#Reading the dictonary\n",
        "df=pd.read_csv('/content/french_dictionary.csv')"
      ],
      "execution_count": 3,
      "outputs": []
    },
    {
      "cell_type": "code",
      "metadata": {
        "id": "IwNRueGWGiRs"
      },
      "source": [
        "df.columns=['English_word','French_word']"
      ],
      "execution_count": 4,
      "outputs": []
    },
    {
      "cell_type": "code",
      "metadata": {
        "id": "fx2NgKCCHglN"
      },
      "source": [
        "df2={'English_word':'abide','French_word':'respecter'}\n",
        "df = df.append(df2, ignore_index = True)"
      ],
      "execution_count": 5,
      "outputs": []
    },
    {
      "cell_type": "code",
      "metadata": {
        "id": "oBonyZsuJukj"
      },
      "source": [
        "# create a dictionary of words-to-replace and words-to-replace-with\n",
        "dictonary=dict(df.values)"
      ],
      "execution_count": 6,
      "outputs": []
    },
    {
      "cell_type": "code",
      "metadata": {
        "id": "cVp_iZqWPPkk"
      },
      "source": [
        "start = time.time()       #starting time\n",
        "f = open(\"/content/t8.shakespeare.txt\",\"r\")  #reading the text file\n",
        "data = f.read() # string of all file content\n",
        "# performing split()\n",
        "temp = data.split()\n",
        "res = []\n",
        "for wrd in temp:\n",
        "      \n",
        "    # searching from dictonary\n",
        "    res.append(dictonary.get(wrd, wrd))\n",
        "      \n",
        "res = ' '.join(res)      #list of converted words\n",
        "end = time.time()       # Ending time"
      ],
      "execution_count": 7,
      "outputs": []
    },
    {
      "cell_type": "code",
      "metadata": {
        "id": "aJDy2xwChN6n"
      },
      "source": [
        "# Converted list\n",
        "print(res)"
      ],
      "execution_count": null,
      "outputs": []
    },
    {
      "cell_type": "code",
      "metadata": {
        "colab": {
          "base_uri": "https://localhost:8080/"
        },
        "id": "-LTnEDMygBM9",
        "outputId": "6360a357-8e40-44e9-ef07-03979f0e1be9"
      },
      "source": [
        "# total time taken by the program\n",
        "print(f\"Runtime of the program is {end - start}\")"
      ],
      "execution_count": 8,
      "outputs": [
        {
          "output_type": "stream",
          "text": [
            "Runtime of the program is 0.3416426181793213\n"
          ],
          "name": "stdout"
        }
      ]
    },
    {
      "cell_type": "code",
      "metadata": {
        "colab": {
          "base_uri": "https://localhost:8080/"
        },
        "id": "VtRiFBYsgubr",
        "outputId": "0778d452-0734-4e5a-feca-a2760c4332c6"
      },
      "source": [
        "# memory taken by program \n",
        "import os, psutil\n",
        "process = psutil.Process(os.getpid())\n",
        "print(process.memory_info().rss)  # in bytes \n"
      ],
      "execution_count": 10,
      "outputs": [
        {
          "output_type": "stream",
          "text": [
            "217518080\n"
          ],
          "name": "stdout"
        }
      ]
    },
    {
      "cell_type": "code",
      "metadata": {
        "id": "P9pxSFixg74v"
      },
      "source": [
        ""
      ],
      "execution_count": null,
      "outputs": []
    }
  ]
}